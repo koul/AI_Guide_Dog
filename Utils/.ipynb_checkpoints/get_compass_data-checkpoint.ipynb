{
 "cells": [
  {
   "cell_type": "code",
   "execution_count": 1,
   "metadata": {},
   "outputs": [],
   "source": [
    "import numpy as np\n",
    "import pandas as pd\n",
    "\n",
    "\n",
    "'''\n",
    "Lookback is defined in seconds\n",
    "Cutoffs are defined as \n",
    "Each second is ~ 30 rows in the CSV that we read (but is not)\n",
    "'''\n",
    "class LabelDF(object):\n",
    "    def __init__(self, input_data, lookback=30, cutoffs_hard=[70, 100], cutoffs_slight=None):\n",
    "        self.df = pd.read_csv(input_data)\n",
    "        self.lookback = lookback\n",
    "        self.cutoffs_hard = cutoffs_hard\n",
    "        self.cutoffs_slight = cutoffs_slight\n",
    "        \n",
    "    '''\n",
    "    INPUT: List of fields to process\n",
    "    OUTPUT: Processed DataFrame with Direction\n",
    "\n",
    "    '''\n",
    "    def add_direction(self, fields=\"Heading (degrees)\"):\n",
    "        sub_df = self.df[fields]\n",
    "        print(type(sub_df))\n",
    "        windows = sub_df.rolling(self.lookback, closed=\"left\").mean()\n",
    "                \n",
    "        ## perform the subtraction\n",
    "        heading_delta = sub_df - windows\n",
    "        hard_right = ((heading_delta > self.cutoffs_hard[0]) and (heading_delta < self.cutoffs_hard[1])).astype(int)\n",
    "        hard_left = -1 * ((heading_delta > -1 * self.cutoffs_hard[1]) and (heading_delta < -1 * self.cutoffs_hard[0])).astype(int)\n",
    "        \n",
    "        hard_turns = hard_right + hard_left\n",
    "        print(hard_turns)\n",
    "        \n",
    "        self.df[\"turn\"] = directions\n",
    "        return self.df"
   ]
  },
  {
   "cell_type": "code",
   "execution_count": 28,
   "metadata": {},
   "outputs": [],
   "source": [
    "x = LabelDF(\"../data/sample/sample.csv\", 30)\n",
    "#display(x.df.columns)"
   ]
  },
  {
   "cell_type": "code",
   "execution_count": 2,
   "metadata": {},
   "outputs": [
    {
     "data": {
      "text/plain": [
       "'1.3.5'"
      ]
     },
     "execution_count": 2,
     "metadata": {},
     "output_type": "execute_result"
    }
   ],
   "source": [
    "import pandas as pd\n",
    "pd.__version__"
   ]
  },
  {
   "cell_type": "code",
   "execution_count": 29,
   "metadata": {},
   "outputs": [
    {
     "name": "stdout",
     "output_type": "stream",
     "text": [
      "<class 'pandas.core.series.Series'>\n"
     ]
    },
    {
     "ename": "ValueError",
     "evalue": "closed only implemented for datetimelike and offset based windows",
     "output_type": "error",
     "traceback": [
      "\u001b[0;31m---------------------------------------------------------------------------\u001b[0m",
      "\u001b[0;31mValueError\u001b[0m                                Traceback (most recent call last)",
      "\u001b[0;32m<ipython-input-29-d80d1c5a4f3c>\u001b[0m in \u001b[0;36m<module>\u001b[0;34m\u001b[0m\n\u001b[0;32m----> 1\u001b[0;31m \u001b[0mx\u001b[0m\u001b[0;34m.\u001b[0m\u001b[0madd_direction\u001b[0m\u001b[0;34m(\u001b[0m\u001b[0;34m)\u001b[0m\u001b[0;34m\u001b[0m\u001b[0;34m\u001b[0m\u001b[0m\n\u001b[0m",
      "\u001b[0;32m<ipython-input-27-d0f90c9a7510>\u001b[0m in \u001b[0;36madd_direction\u001b[0;34m(self, fields)\u001b[0m\n\u001b[1;32m     23\u001b[0m         \u001b[0msub_df\u001b[0m \u001b[0;34m=\u001b[0m \u001b[0mself\u001b[0m\u001b[0;34m.\u001b[0m\u001b[0mdf\u001b[0m\u001b[0;34m[\u001b[0m\u001b[0mfields\u001b[0m\u001b[0;34m]\u001b[0m\u001b[0;34m\u001b[0m\u001b[0;34m\u001b[0m\u001b[0m\n\u001b[1;32m     24\u001b[0m         \u001b[0mprint\u001b[0m\u001b[0;34m(\u001b[0m\u001b[0mtype\u001b[0m\u001b[0;34m(\u001b[0m\u001b[0msub_df\u001b[0m\u001b[0;34m)\u001b[0m\u001b[0;34m)\u001b[0m\u001b[0;34m\u001b[0m\u001b[0;34m\u001b[0m\u001b[0m\n\u001b[0;32m---> 25\u001b[0;31m         \u001b[0mwindows\u001b[0m \u001b[0;34m=\u001b[0m \u001b[0msub_df\u001b[0m\u001b[0;34m.\u001b[0m\u001b[0mrolling\u001b[0m\u001b[0;34m(\u001b[0m\u001b[0mself\u001b[0m\u001b[0;34m.\u001b[0m\u001b[0mlookback\u001b[0m\u001b[0;34m,\u001b[0m \u001b[0mclosed\u001b[0m\u001b[0;34m=\u001b[0m\u001b[0;34m\"left\"\u001b[0m\u001b[0;34m)\u001b[0m\u001b[0;34m.\u001b[0m\u001b[0mmean\u001b[0m\u001b[0;34m(\u001b[0m\u001b[0;34m)\u001b[0m\u001b[0;34m\u001b[0m\u001b[0;34m\u001b[0m\u001b[0m\n\u001b[0m\u001b[1;32m     26\u001b[0m \u001b[0;34m\u001b[0m\u001b[0m\n\u001b[1;32m     27\u001b[0m         \u001b[0;31m## perform the subtraction\u001b[0m\u001b[0;34m\u001b[0m\u001b[0;34m\u001b[0m\u001b[0;34m\u001b[0m\u001b[0m\n",
      "\u001b[0;32m~/opt/anaconda3/lib/python3.8/site-packages/pandas/core/generic.py\u001b[0m in \u001b[0;36mrolling\u001b[0;34m(self, window, min_periods, center, win_type, on, axis, closed)\u001b[0m\n\u001b[1;32m  10759\u001b[0m         ):\n\u001b[1;32m  10760\u001b[0m             \u001b[0maxis\u001b[0m \u001b[0;34m=\u001b[0m \u001b[0mself\u001b[0m\u001b[0;34m.\u001b[0m\u001b[0m_get_axis_number\u001b[0m\u001b[0;34m(\u001b[0m\u001b[0maxis\u001b[0m\u001b[0;34m)\u001b[0m\u001b[0;34m\u001b[0m\u001b[0;34m\u001b[0m\u001b[0m\n\u001b[0;32m> 10761\u001b[0;31m             return rwindow.rolling(\n\u001b[0m\u001b[1;32m  10762\u001b[0m                 \u001b[0mself\u001b[0m\u001b[0;34m,\u001b[0m\u001b[0;34m\u001b[0m\u001b[0;34m\u001b[0m\u001b[0m\n\u001b[1;32m  10763\u001b[0m                 \u001b[0mwindow\u001b[0m\u001b[0;34m=\u001b[0m\u001b[0mwindow\u001b[0m\u001b[0;34m,\u001b[0m\u001b[0;34m\u001b[0m\u001b[0;34m\u001b[0m\u001b[0m\n",
      "\u001b[0;32m~/opt/anaconda3/lib/python3.8/site-packages/pandas/core/window.py\u001b[0m in \u001b[0;36mrolling\u001b[0;34m(obj, win_type, **kwds)\u001b[0m\n\u001b[1;32m   2847\u001b[0m         \u001b[0;32mreturn\u001b[0m \u001b[0mWindow\u001b[0m\u001b[0;34m(\u001b[0m\u001b[0mobj\u001b[0m\u001b[0;34m,\u001b[0m \u001b[0mwin_type\u001b[0m\u001b[0;34m=\u001b[0m\u001b[0mwin_type\u001b[0m\u001b[0;34m,\u001b[0m \u001b[0;34m**\u001b[0m\u001b[0mkwds\u001b[0m\u001b[0;34m)\u001b[0m\u001b[0;34m\u001b[0m\u001b[0;34m\u001b[0m\u001b[0m\n\u001b[1;32m   2848\u001b[0m \u001b[0;34m\u001b[0m\u001b[0m\n\u001b[0;32m-> 2849\u001b[0;31m     \u001b[0;32mreturn\u001b[0m \u001b[0mRolling\u001b[0m\u001b[0;34m(\u001b[0m\u001b[0mobj\u001b[0m\u001b[0;34m,\u001b[0m \u001b[0;34m**\u001b[0m\u001b[0mkwds\u001b[0m\u001b[0;34m)\u001b[0m\u001b[0;34m\u001b[0m\u001b[0;34m\u001b[0m\u001b[0m\n\u001b[0m\u001b[1;32m   2850\u001b[0m \u001b[0;34m\u001b[0m\u001b[0m\n\u001b[1;32m   2851\u001b[0m \u001b[0;34m\u001b[0m\u001b[0m\n",
      "\u001b[0;32m~/opt/anaconda3/lib/python3.8/site-packages/pandas/core/window.py\u001b[0m in \u001b[0;36m__init__\u001b[0;34m(self, obj, window, min_periods, center, win_type, axis, on, closed, **kwargs)\u001b[0m\n\u001b[1;32m     91\u001b[0m         \u001b[0mself\u001b[0m\u001b[0;34m.\u001b[0m\u001b[0mwin_freq\u001b[0m \u001b[0;34m=\u001b[0m \u001b[0;32mNone\u001b[0m\u001b[0;34m\u001b[0m\u001b[0;34m\u001b[0m\u001b[0m\n\u001b[1;32m     92\u001b[0m         \u001b[0mself\u001b[0m\u001b[0;34m.\u001b[0m\u001b[0maxis\u001b[0m \u001b[0;34m=\u001b[0m \u001b[0mobj\u001b[0m\u001b[0;34m.\u001b[0m\u001b[0m_get_axis_number\u001b[0m\u001b[0;34m(\u001b[0m\u001b[0maxis\u001b[0m\u001b[0;34m)\u001b[0m \u001b[0;32mif\u001b[0m \u001b[0maxis\u001b[0m \u001b[0;32mis\u001b[0m \u001b[0;32mnot\u001b[0m \u001b[0;32mNone\u001b[0m \u001b[0;32melse\u001b[0m \u001b[0;32mNone\u001b[0m\u001b[0;34m\u001b[0m\u001b[0;34m\u001b[0m\u001b[0m\n\u001b[0;32m---> 93\u001b[0;31m         \u001b[0mself\u001b[0m\u001b[0;34m.\u001b[0m\u001b[0mvalidate\u001b[0m\u001b[0;34m(\u001b[0m\u001b[0;34m)\u001b[0m\u001b[0;34m\u001b[0m\u001b[0;34m\u001b[0m\u001b[0m\n\u001b[0m\u001b[1;32m     94\u001b[0m \u001b[0;34m\u001b[0m\u001b[0m\n\u001b[1;32m     95\u001b[0m     \u001b[0;34m@\u001b[0m\u001b[0mproperty\u001b[0m\u001b[0;34m\u001b[0m\u001b[0;34m\u001b[0m\u001b[0m\n",
      "\u001b[0;32m~/opt/anaconda3/lib/python3.8/site-packages/pandas/core/window.py\u001b[0m in \u001b[0;36mvalidate\u001b[0;34m(self)\u001b[0m\n\u001b[1;32m   1741\u001b[0m \u001b[0;34m\u001b[0m\u001b[0m\n\u001b[1;32m   1742\u001b[0m         \u001b[0;32mif\u001b[0m \u001b[0;32mnot\u001b[0m \u001b[0mself\u001b[0m\u001b[0;34m.\u001b[0m\u001b[0mis_datetimelike\u001b[0m \u001b[0;32mand\u001b[0m \u001b[0mself\u001b[0m\u001b[0;34m.\u001b[0m\u001b[0mclosed\u001b[0m \u001b[0;32mis\u001b[0m \u001b[0;32mnot\u001b[0m \u001b[0;32mNone\u001b[0m\u001b[0;34m:\u001b[0m\u001b[0;34m\u001b[0m\u001b[0;34m\u001b[0m\u001b[0m\n\u001b[0;32m-> 1743\u001b[0;31m             raise ValueError(\n\u001b[0m\u001b[1;32m   1744\u001b[0m                 \u001b[0;34m\"closed only implemented for datetimelike \"\u001b[0m \u001b[0;34m\"and offset based windows\"\u001b[0m\u001b[0;34m\u001b[0m\u001b[0;34m\u001b[0m\u001b[0m\n\u001b[1;32m   1745\u001b[0m             )\n",
      "\u001b[0;31mValueError\u001b[0m: closed only implemented for datetimelike and offset based windows"
     ]
    }
   ],
   "source": [
    "x.add_direction()"
   ]
  },
  {
   "cell_type": "code",
   "execution_count": 8,
   "metadata": {},
   "outputs": [],
   "source": [
    "test = pd.read_csv(\"../data/TCSSimpleWalk/shortWalkTwoTurns.csv\")"
   ]
  },
  {
   "cell_type": "code",
   "execution_count": 9,
   "metadata": {},
   "outputs": [
    {
     "data": {
      "text/html": [
       "<div>\n",
       "<style scoped>\n",
       "    .dataframe tbody tr th:only-of-type {\n",
       "        vertical-align: middle;\n",
       "    }\n",
       "\n",
       "    .dataframe tbody tr th {\n",
       "        vertical-align: top;\n",
       "    }\n",
       "\n",
       "    .dataframe thead th {\n",
       "        text-align: right;\n",
       "    }\n",
       "</style>\n",
       "<table border=\"1\" class=\"dataframe\">\n",
       "  <thead>\n",
       "    <tr style=\"text-align: right;\">\n",
       "      <th></th>\n",
       "      <th>Timestamp (ms)</th>\n",
       "      <th>Triggering Sensor</th>\n",
       "      <th>Latitude</th>\n",
       "      <th>Longitude</th>\n",
       "      <th>Altitude</th>\n",
       "      <th>Heading (degrees)</th>\n",
       "      <th>Heading accuracy (degrees)</th>\n",
       "      <th>Relative Altitude (m)</th>\n",
       "      <th>Pressure (kPa)</th>\n",
       "      <th>Speed (m/s)</th>\n",
       "      <th>...</th>\n",
       "      <th>Rotation Rate - Y axis</th>\n",
       "      <th>Rotation Rate - Z axis</th>\n",
       "      <th>Activity Type</th>\n",
       "      <th>Number of Steps</th>\n",
       "      <th>Distance</th>\n",
       "      <th>Floors Ascended</th>\n",
       "      <th>Floors Descended</th>\n",
       "      <th>Current Pace</th>\n",
       "      <th>Current Cadence</th>\n",
       "      <th>Average Active Pace</th>\n",
       "    </tr>\n",
       "  </thead>\n",
       "  <tbody>\n",
       "    <tr>\n",
       "      <th>0</th>\n",
       "      <td>10</td>\n",
       "      <td>Gyrometer</td>\n",
       "      <td>NaN</td>\n",
       "      <td>NaN</td>\n",
       "      <td>NaN</td>\n",
       "      <td>NaN</td>\n",
       "      <td>NaN</td>\n",
       "      <td>NaN</td>\n",
       "      <td>NaN</td>\n",
       "      <td>NaN</td>\n",
       "      <td>...</td>\n",
       "      <td>NaN</td>\n",
       "      <td>NaN</td>\n",
       "      <td>NaN</td>\n",
       "      <td>NaN</td>\n",
       "      <td>NaN</td>\n",
       "      <td>NaN</td>\n",
       "      <td>NaN</td>\n",
       "      <td>NaN</td>\n",
       "      <td>NaN</td>\n",
       "      <td>NaN</td>\n",
       "    </tr>\n",
       "    <tr>\n",
       "      <th>1</th>\n",
       "      <td>31</td>\n",
       "      <td>GPS</td>\n",
       "      <td>40.44461</td>\n",
       "      <td>-79.947035</td>\n",
       "      <td>284.186073</td>\n",
       "      <td>NaN</td>\n",
       "      <td>NaN</td>\n",
       "      <td>NaN</td>\n",
       "      <td>NaN</td>\n",
       "      <td>-1.0</td>\n",
       "      <td>...</td>\n",
       "      <td>NaN</td>\n",
       "      <td>NaN</td>\n",
       "      <td>NaN</td>\n",
       "      <td>NaN</td>\n",
       "      <td>NaN</td>\n",
       "      <td>NaN</td>\n",
       "      <td>NaN</td>\n",
       "      <td>NaN</td>\n",
       "      <td>NaN</td>\n",
       "      <td>NaN</td>\n",
       "    </tr>\n",
       "    <tr>\n",
       "      <th>2</th>\n",
       "      <td>52</td>\n",
       "      <td>GPS</td>\n",
       "      <td>40.44461</td>\n",
       "      <td>-79.947035</td>\n",
       "      <td>284.186073</td>\n",
       "      <td>NaN</td>\n",
       "      <td>NaN</td>\n",
       "      <td>NaN</td>\n",
       "      <td>NaN</td>\n",
       "      <td>-1.0</td>\n",
       "      <td>...</td>\n",
       "      <td>NaN</td>\n",
       "      <td>NaN</td>\n",
       "      <td>NaN</td>\n",
       "      <td>NaN</td>\n",
       "      <td>NaN</td>\n",
       "      <td>NaN</td>\n",
       "      <td>NaN</td>\n",
       "      <td>NaN</td>\n",
       "      <td>NaN</td>\n",
       "      <td>NaN</td>\n",
       "    </tr>\n",
       "    <tr>\n",
       "      <th>3</th>\n",
       "      <td>81</td>\n",
       "      <td>COMPASS</td>\n",
       "      <td>40.44461</td>\n",
       "      <td>-79.947035</td>\n",
       "      <td>284.186073</td>\n",
       "      <td>223.304199</td>\n",
       "      <td>13.588082</td>\n",
       "      <td>NaN</td>\n",
       "      <td>NaN</td>\n",
       "      <td>-1.0</td>\n",
       "      <td>...</td>\n",
       "      <td>NaN</td>\n",
       "      <td>NaN</td>\n",
       "      <td>NaN</td>\n",
       "      <td>NaN</td>\n",
       "      <td>NaN</td>\n",
       "      <td>NaN</td>\n",
       "      <td>NaN</td>\n",
       "      <td>NaN</td>\n",
       "      <td>NaN</td>\n",
       "      <td>NaN</td>\n",
       "    </tr>\n",
       "    <tr>\n",
       "      <th>4</th>\n",
       "      <td>103</td>\n",
       "      <td>Magnetometer</td>\n",
       "      <td>40.44461</td>\n",
       "      <td>-79.947035</td>\n",
       "      <td>284.186073</td>\n",
       "      <td>223.304199</td>\n",
       "      <td>13.588082</td>\n",
       "      <td>NaN</td>\n",
       "      <td>NaN</td>\n",
       "      <td>-1.0</td>\n",
       "      <td>...</td>\n",
       "      <td>NaN</td>\n",
       "      <td>NaN</td>\n",
       "      <td>NaN</td>\n",
       "      <td>NaN</td>\n",
       "      <td>NaN</td>\n",
       "      <td>NaN</td>\n",
       "      <td>NaN</td>\n",
       "      <td>NaN</td>\n",
       "      <td>NaN</td>\n",
       "      <td>NaN</td>\n",
       "    </tr>\n",
       "  </tbody>\n",
       "</table>\n",
       "<p>5 rows × 41 columns</p>\n",
       "</div>"
      ],
      "text/plain": [
       "   Timestamp (ms) Triggering Sensor  Latitude  Longitude    Altitude  \\\n",
       "0              10         Gyrometer       NaN        NaN         NaN   \n",
       "1              31               GPS  40.44461 -79.947035  284.186073   \n",
       "2              52               GPS  40.44461 -79.947035  284.186073   \n",
       "3              81           COMPASS  40.44461 -79.947035  284.186073   \n",
       "4             103      Magnetometer  40.44461 -79.947035  284.186073   \n",
       "\n",
       "   Heading (degrees)  Heading accuracy (degrees)  Relative Altitude (m)  \\\n",
       "0                NaN                         NaN                    NaN   \n",
       "1                NaN                         NaN                    NaN   \n",
       "2                NaN                         NaN                    NaN   \n",
       "3         223.304199                   13.588082                    NaN   \n",
       "4         223.304199                   13.588082                    NaN   \n",
       "\n",
       "   Pressure (kPa)  Speed (m/s)  ...  Rotation Rate - Y axis  \\\n",
       "0             NaN          NaN  ...                     NaN   \n",
       "1             NaN         -1.0  ...                     NaN   \n",
       "2             NaN         -1.0  ...                     NaN   \n",
       "3             NaN         -1.0  ...                     NaN   \n",
       "4             NaN         -1.0  ...                     NaN   \n",
       "\n",
       "   Rotation Rate - Z axis  Activity Type  Number of Steps  Distance  \\\n",
       "0                     NaN            NaN              NaN       NaN   \n",
       "1                     NaN            NaN              NaN       NaN   \n",
       "2                     NaN            NaN              NaN       NaN   \n",
       "3                     NaN            NaN              NaN       NaN   \n",
       "4                     NaN            NaN              NaN       NaN   \n",
       "\n",
       "   Floors Ascended  Floors Descended  Current Pace  Current Cadence  \\\n",
       "0              NaN               NaN           NaN              NaN   \n",
       "1              NaN               NaN           NaN              NaN   \n",
       "2              NaN               NaN           NaN              NaN   \n",
       "3              NaN               NaN           NaN              NaN   \n",
       "4              NaN               NaN           NaN              NaN   \n",
       "\n",
       "   Average Active Pace  \n",
       "0                  NaN  \n",
       "1                  NaN  \n",
       "2                  NaN  \n",
       "3                  NaN  \n",
       "4                  NaN  \n",
       "\n",
       "[5 rows x 41 columns]"
      ]
     },
     "metadata": {},
     "output_type": "display_data"
    }
   ],
   "source": [
    "display(test.head(5))"
   ]
  },
  {
   "cell_type": "code",
   "execution_count": 10,
   "metadata": {},
   "outputs": [
    {
     "name": "stdout",
     "output_type": "stream",
     "text": [
      "130.91246032714844\n"
     ]
    }
   ],
   "source": [
    "print(test[\"Heading (degrees)\"].min())"
   ]
  },
  {
   "cell_type": "code",
   "execution_count": 11,
   "metadata": {},
   "outputs": [
    {
     "name": "stdout",
     "output_type": "stream",
     "text": [
      "227.97885131835938\n"
     ]
    }
   ],
   "source": [
    "print(test[\"Heading (degrees)\"].max())"
   ]
  },
  {
   "cell_type": "code",
   "execution_count": null,
   "metadata": {},
   "outputs": [],
   "source": []
  }
 ],
 "metadata": {
  "kernelspec": {
   "display_name": "venv",
   "language": "python",
   "name": "venv"
  },
  "language_info": {
   "codemirror_mode": {
    "name": "ipython",
    "version": 3
   },
   "file_extension": ".py",
   "mimetype": "text/x-python",
   "name": "python",
   "nbconvert_exporter": "python",
   "pygments_lexer": "ipython3",
   "version": "3.7.7"
  }
 },
 "nbformat": 4,
 "nbformat_minor": 4
}
