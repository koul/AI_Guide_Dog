{
 "cells": [
  {
   "cell_type": "code",
   "execution_count": 55,
   "metadata": {},
   "outputs": [],
   "source": [
    "import numpy as np\n",
    "import pandas as pd\n",
    "\n",
    "\n",
    "'''\n",
    "Lookback is defined in seconds\n",
    "Cutoffs are defined as \n",
    "Each second is ~ 30 rows in the CSV that we read (but is not)\n",
    "\n",
    "WINDOW_SIZE = determines how much to be averaging the data that we have\n",
    "DELTA_ANGLE: delta = (end- start) % 360\n",
    "DIRECTION: minimum of either CW or CCW \n",
    "\n",
    "'''\n",
    "class LabelDF(object):\n",
    "    def __init__(self, input_data, lookback=90, lookforward=120, window_size=10, cutoffs_hard=[70, 100], cutoffs_slight=None):\n",
    "        self.df = pd.read_csv(input_data)\n",
    "        self.lookback = lookback\n",
    "        self.window_size = window_size\n",
    "        self.lookforward = lookforward\n",
    "        \n",
    "        self.hard_left_cutoffs = [(360-cutoffs_hard[1]), (360-cutoffs_hard[0])]\n",
    "        self.hard_right_cutoffs = cutoffs_hard\n",
    "\n",
    "        \n",
    "    def check_direction(self, angle):\n",
    "        print(self.hard_right_cutoffs)\n",
    "        print(self.hard_left_cutoffs)\n",
    "        if angle < self.hard_right_cutoffs[1] and angle > self.hard_right_cutoffs[0]:\n",
    "            return 1\n",
    "        elif angle < self.hard_left_cutoffs[1] and angle > self.hard_left_cutoffs[0]:\n",
    "            return -1\n",
    "        \n",
    "        return 0\n",
    "        \n",
    "        \n",
    "    '''\n",
    "    INPUT: List of fields to process\n",
    "    OUTPUT: Processed DataFrame with Direction for hard turns and also slight turns\n",
    "    '''\n",
    "    def add_direction(self, fields=\"Heading (degrees)\"):\n",
    "        sub_df = self.df[fields]\n",
    "        averaged_vals = sub_df.rolling(self.window_size, closed=\"left\", center=False).mean()\n",
    "        \n",
    "        # shift the values forward and backwards to create the lookback period\n",
    "        backwards_vals = averaged_vals.shift(periods=self.lookback)\n",
    "        forwards_vals = averaged_vals.shift(-1 * self.lookforward)\n",
    "        \n",
    "        # calculate the change in angle\n",
    "        heading_delta = (forwards_vals - backwards_vals) % 360\n",
    "        \n",
    "        # convert to a hard right or left turn\n",
    "        \n",
    "        # TODO: Vectorize this quick\n",
    "        x = heading_delta.iloc[0:2].apply(lambda angle: self.check_direction(angle))\n",
    "        print(sum(x==1))\n",
    "        print(sum(x==-1))\n",
    "        \n",
    "        #return self.df"
   ]
  },
  {
   "cell_type": "code",
   "execution_count": 56,
   "metadata": {},
   "outputs": [],
   "source": [
    "x = LabelDF(\"../data/TCSSimpleWalk/shortWalkTwoTurns.csv\", 150)\n",
    "#display(x.df.columns)"
   ]
  },
  {
   "cell_type": "code",
   "execution_count": 57,
   "metadata": {},
   "outputs": [
    {
     "name": "stdout",
     "output_type": "stream",
     "text": [
      "[70, 100]\n",
      "[260, 290]\n",
      "[70, 100]\n",
      "[260, 290]\n",
      "0\n",
      "0\n"
     ]
    }
   ],
   "source": [
    "x.add_direction()"
   ]
  },
  {
   "cell_type": "code",
   "execution_count": 8,
   "metadata": {},
   "outputs": [],
   "source": [
    "test = pd.read_csv(\"../data/TCSSimpleWalk/shortWalkTwoTurns.csv\")"
   ]
  },
  {
   "cell_type": "code",
   "execution_count": 9,
   "metadata": {},
   "outputs": [
    {
     "data": {
      "text/html": [
       "<div>\n",
       "<style scoped>\n",
       "    .dataframe tbody tr th:only-of-type {\n",
       "        vertical-align: middle;\n",
       "    }\n",
       "\n",
       "    .dataframe tbody tr th {\n",
       "        vertical-align: top;\n",
       "    }\n",
       "\n",
       "    .dataframe thead th {\n",
       "        text-align: right;\n",
       "    }\n",
       "</style>\n",
       "<table border=\"1\" class=\"dataframe\">\n",
       "  <thead>\n",
       "    <tr style=\"text-align: right;\">\n",
       "      <th></th>\n",
       "      <th>Timestamp (ms)</th>\n",
       "      <th>Triggering Sensor</th>\n",
       "      <th>Latitude</th>\n",
       "      <th>Longitude</th>\n",
       "      <th>Altitude</th>\n",
       "      <th>Heading (degrees)</th>\n",
       "      <th>Heading accuracy (degrees)</th>\n",
       "      <th>Relative Altitude (m)</th>\n",
       "      <th>Pressure (kPa)</th>\n",
       "      <th>Speed (m/s)</th>\n",
       "      <th>...</th>\n",
       "      <th>Rotation Rate - Y axis</th>\n",
       "      <th>Rotation Rate - Z axis</th>\n",
       "      <th>Activity Type</th>\n",
       "      <th>Number of Steps</th>\n",
       "      <th>Distance</th>\n",
       "      <th>Floors Ascended</th>\n",
       "      <th>Floors Descended</th>\n",
       "      <th>Current Pace</th>\n",
       "      <th>Current Cadence</th>\n",
       "      <th>Average Active Pace</th>\n",
       "    </tr>\n",
       "  </thead>\n",
       "  <tbody>\n",
       "    <tr>\n",
       "      <th>0</th>\n",
       "      <td>10</td>\n",
       "      <td>Gyrometer</td>\n",
       "      <td>NaN</td>\n",
       "      <td>NaN</td>\n",
       "      <td>NaN</td>\n",
       "      <td>NaN</td>\n",
       "      <td>NaN</td>\n",
       "      <td>NaN</td>\n",
       "      <td>NaN</td>\n",
       "      <td>NaN</td>\n",
       "      <td>...</td>\n",
       "      <td>NaN</td>\n",
       "      <td>NaN</td>\n",
       "      <td>NaN</td>\n",
       "      <td>NaN</td>\n",
       "      <td>NaN</td>\n",
       "      <td>NaN</td>\n",
       "      <td>NaN</td>\n",
       "      <td>NaN</td>\n",
       "      <td>NaN</td>\n",
       "      <td>NaN</td>\n",
       "    </tr>\n",
       "    <tr>\n",
       "      <th>1</th>\n",
       "      <td>31</td>\n",
       "      <td>GPS</td>\n",
       "      <td>40.44461</td>\n",
       "      <td>-79.947035</td>\n",
       "      <td>284.186073</td>\n",
       "      <td>NaN</td>\n",
       "      <td>NaN</td>\n",
       "      <td>NaN</td>\n",
       "      <td>NaN</td>\n",
       "      <td>-1.0</td>\n",
       "      <td>...</td>\n",
       "      <td>NaN</td>\n",
       "      <td>NaN</td>\n",
       "      <td>NaN</td>\n",
       "      <td>NaN</td>\n",
       "      <td>NaN</td>\n",
       "      <td>NaN</td>\n",
       "      <td>NaN</td>\n",
       "      <td>NaN</td>\n",
       "      <td>NaN</td>\n",
       "      <td>NaN</td>\n",
       "    </tr>\n",
       "    <tr>\n",
       "      <th>2</th>\n",
       "      <td>52</td>\n",
       "      <td>GPS</td>\n",
       "      <td>40.44461</td>\n",
       "      <td>-79.947035</td>\n",
       "      <td>284.186073</td>\n",
       "      <td>NaN</td>\n",
       "      <td>NaN</td>\n",
       "      <td>NaN</td>\n",
       "      <td>NaN</td>\n",
       "      <td>-1.0</td>\n",
       "      <td>...</td>\n",
       "      <td>NaN</td>\n",
       "      <td>NaN</td>\n",
       "      <td>NaN</td>\n",
       "      <td>NaN</td>\n",
       "      <td>NaN</td>\n",
       "      <td>NaN</td>\n",
       "      <td>NaN</td>\n",
       "      <td>NaN</td>\n",
       "      <td>NaN</td>\n",
       "      <td>NaN</td>\n",
       "    </tr>\n",
       "    <tr>\n",
       "      <th>3</th>\n",
       "      <td>81</td>\n",
       "      <td>COMPASS</td>\n",
       "      <td>40.44461</td>\n",
       "      <td>-79.947035</td>\n",
       "      <td>284.186073</td>\n",
       "      <td>223.304199</td>\n",
       "      <td>13.588082</td>\n",
       "      <td>NaN</td>\n",
       "      <td>NaN</td>\n",
       "      <td>-1.0</td>\n",
       "      <td>...</td>\n",
       "      <td>NaN</td>\n",
       "      <td>NaN</td>\n",
       "      <td>NaN</td>\n",
       "      <td>NaN</td>\n",
       "      <td>NaN</td>\n",
       "      <td>NaN</td>\n",
       "      <td>NaN</td>\n",
       "      <td>NaN</td>\n",
       "      <td>NaN</td>\n",
       "      <td>NaN</td>\n",
       "    </tr>\n",
       "    <tr>\n",
       "      <th>4</th>\n",
       "      <td>103</td>\n",
       "      <td>Magnetometer</td>\n",
       "      <td>40.44461</td>\n",
       "      <td>-79.947035</td>\n",
       "      <td>284.186073</td>\n",
       "      <td>223.304199</td>\n",
       "      <td>13.588082</td>\n",
       "      <td>NaN</td>\n",
       "      <td>NaN</td>\n",
       "      <td>-1.0</td>\n",
       "      <td>...</td>\n",
       "      <td>NaN</td>\n",
       "      <td>NaN</td>\n",
       "      <td>NaN</td>\n",
       "      <td>NaN</td>\n",
       "      <td>NaN</td>\n",
       "      <td>NaN</td>\n",
       "      <td>NaN</td>\n",
       "      <td>NaN</td>\n",
       "      <td>NaN</td>\n",
       "      <td>NaN</td>\n",
       "    </tr>\n",
       "  </tbody>\n",
       "</table>\n",
       "<p>5 rows × 41 columns</p>\n",
       "</div>"
      ],
      "text/plain": [
       "   Timestamp (ms) Triggering Sensor  Latitude  Longitude    Altitude  \\\n",
       "0              10         Gyrometer       NaN        NaN         NaN   \n",
       "1              31               GPS  40.44461 -79.947035  284.186073   \n",
       "2              52               GPS  40.44461 -79.947035  284.186073   \n",
       "3              81           COMPASS  40.44461 -79.947035  284.186073   \n",
       "4             103      Magnetometer  40.44461 -79.947035  284.186073   \n",
       "\n",
       "   Heading (degrees)  Heading accuracy (degrees)  Relative Altitude (m)  \\\n",
       "0                NaN                         NaN                    NaN   \n",
       "1                NaN                         NaN                    NaN   \n",
       "2                NaN                         NaN                    NaN   \n",
       "3         223.304199                   13.588082                    NaN   \n",
       "4         223.304199                   13.588082                    NaN   \n",
       "\n",
       "   Pressure (kPa)  Speed (m/s)  ...  Rotation Rate - Y axis  \\\n",
       "0             NaN          NaN  ...                     NaN   \n",
       "1             NaN         -1.0  ...                     NaN   \n",
       "2             NaN         -1.0  ...                     NaN   \n",
       "3             NaN         -1.0  ...                     NaN   \n",
       "4             NaN         -1.0  ...                     NaN   \n",
       "\n",
       "   Rotation Rate - Z axis  Activity Type  Number of Steps  Distance  \\\n",
       "0                     NaN            NaN              NaN       NaN   \n",
       "1                     NaN            NaN              NaN       NaN   \n",
       "2                     NaN            NaN              NaN       NaN   \n",
       "3                     NaN            NaN              NaN       NaN   \n",
       "4                     NaN            NaN              NaN       NaN   \n",
       "\n",
       "   Floors Ascended  Floors Descended  Current Pace  Current Cadence  \\\n",
       "0              NaN               NaN           NaN              NaN   \n",
       "1              NaN               NaN           NaN              NaN   \n",
       "2              NaN               NaN           NaN              NaN   \n",
       "3              NaN               NaN           NaN              NaN   \n",
       "4              NaN               NaN           NaN              NaN   \n",
       "\n",
       "   Average Active Pace  \n",
       "0                  NaN  \n",
       "1                  NaN  \n",
       "2                  NaN  \n",
       "3                  NaN  \n",
       "4                  NaN  \n",
       "\n",
       "[5 rows x 41 columns]"
      ]
     },
     "metadata": {},
     "output_type": "display_data"
    }
   ],
   "source": [
    "display(test.head(5))"
   ]
  },
  {
   "cell_type": "code",
   "execution_count": 10,
   "metadata": {},
   "outputs": [
    {
     "name": "stdout",
     "output_type": "stream",
     "text": [
      "130.91246032714844\n"
     ]
    }
   ],
   "source": [
    "print(test[\"Heading (degrees)\"].min())"
   ]
  },
  {
   "cell_type": "code",
   "execution_count": 11,
   "metadata": {},
   "outputs": [
    {
     "name": "stdout",
     "output_type": "stream",
     "text": [
      "227.97885131835938\n"
     ]
    }
   ],
   "source": [
    "print(test[\"Heading (degrees)\"].max())"
   ]
  },
  {
   "cell_type": "code",
   "execution_count": 83,
   "metadata": {},
   "outputs": [
    {
     "data": {
      "text/plain": [
       "2"
      ]
     },
     "execution_count": 83,
     "metadata": {},
     "output_type": "execute_result"
    }
   ],
   "source": [
    "-358 %360"
   ]
  },
  {
   "cell_type": "code",
   "execution_count": 84,
   "metadata": {},
   "outputs": [
    {
     "data": {
      "text/plain": [
       "90"
      ]
     },
     "execution_count": 84,
     "metadata": {},
     "output_type": "execute_result"
    }
   ],
   "source": [
    "-270 % 360"
   ]
  },
  {
   "cell_type": "code",
   "execution_count": 12,
   "metadata": {},
   "outputs": [
    {
     "data": {
      "text/html": [
       "<div>\n",
       "<style scoped>\n",
       "    .dataframe tbody tr th:only-of-type {\n",
       "        vertical-align: middle;\n",
       "    }\n",
       "\n",
       "    .dataframe tbody tr th {\n",
       "        vertical-align: top;\n",
       "    }\n",
       "\n",
       "    .dataframe thead th {\n",
       "        text-align: right;\n",
       "    }\n",
       "</style>\n",
       "<table border=\"1\" class=\"dataframe\">\n",
       "  <thead>\n",
       "    <tr style=\"text-align: right;\">\n",
       "      <th></th>\n",
       "      <th>B</th>\n",
       "    </tr>\n",
       "  </thead>\n",
       "  <tbody>\n",
       "    <tr>\n",
       "      <th>0</th>\n",
       "      <td>0</td>\n",
       "    </tr>\n",
       "    <tr>\n",
       "      <th>1</th>\n",
       "      <td>1</td>\n",
       "    </tr>\n",
       "    <tr>\n",
       "      <th>2</th>\n",
       "      <td>2</td>\n",
       "    </tr>\n",
       "    <tr>\n",
       "      <th>3</th>\n",
       "      <td>3</td>\n",
       "    </tr>\n",
       "    <tr>\n",
       "      <th>4</th>\n",
       "      <td>4</td>\n",
       "    </tr>\n",
       "    <tr>\n",
       "      <th>5</th>\n",
       "      <td>5</td>\n",
       "    </tr>\n",
       "    <tr>\n",
       "      <th>6</th>\n",
       "      <td>6</td>\n",
       "    </tr>\n",
       "  </tbody>\n",
       "</table>\n",
       "</div>"
      ],
      "text/plain": [
       "   B\n",
       "0  0\n",
       "1  1\n",
       "2  2\n",
       "3  3\n",
       "4  4\n",
       "5  5\n",
       "6  6"
      ]
     },
     "metadata": {},
     "output_type": "display_data"
    }
   ],
   "source": [
    "df = pd.DataFrame({'B': [0, 1, 2, 3, 4, 5, 6]})\n",
    "display(df)\n"
   ]
  },
  {
   "cell_type": "code",
   "execution_count": 16,
   "metadata": {},
   "outputs": [
    {
     "data": {
      "text/html": [
       "<div>\n",
       "<style scoped>\n",
       "    .dataframe tbody tr th:only-of-type {\n",
       "        vertical-align: middle;\n",
       "    }\n",
       "\n",
       "    .dataframe tbody tr th {\n",
       "        vertical-align: top;\n",
       "    }\n",
       "\n",
       "    .dataframe thead th {\n",
       "        text-align: right;\n",
       "    }\n",
       "</style>\n",
       "<table border=\"1\" class=\"dataframe\">\n",
       "  <thead>\n",
       "    <tr style=\"text-align: right;\">\n",
       "      <th></th>\n",
       "      <th>B</th>\n",
       "    </tr>\n",
       "  </thead>\n",
       "  <tbody>\n",
       "    <tr>\n",
       "      <th>0</th>\n",
       "      <td>2.0</td>\n",
       "    </tr>\n",
       "    <tr>\n",
       "      <th>1</th>\n",
       "      <td>3.0</td>\n",
       "    </tr>\n",
       "    <tr>\n",
       "      <th>2</th>\n",
       "      <td>4.0</td>\n",
       "    </tr>\n",
       "    <tr>\n",
       "      <th>3</th>\n",
       "      <td>5.0</td>\n",
       "    </tr>\n",
       "    <tr>\n",
       "      <th>4</th>\n",
       "      <td>6.0</td>\n",
       "    </tr>\n",
       "    <tr>\n",
       "      <th>5</th>\n",
       "      <td>NaN</td>\n",
       "    </tr>\n",
       "    <tr>\n",
       "      <th>6</th>\n",
       "      <td>NaN</td>\n",
       "    </tr>\n",
       "  </tbody>\n",
       "</table>\n",
       "</div>"
      ],
      "text/plain": [
       "     B\n",
       "0  2.0\n",
       "1  3.0\n",
       "2  4.0\n",
       "3  5.0\n",
       "4  6.0\n",
       "5  NaN\n",
       "6  NaN"
      ]
     },
     "execution_count": 16,
     "metadata": {},
     "output_type": "execute_result"
    }
   ],
   "source": [
    "df.shift(periods=-2)"
   ]
  },
  {
   "cell_type": "code",
   "execution_count": null,
   "metadata": {},
   "outputs": [],
   "source": []
  },
  {
   "cell_type": "code",
   "execution_count": null,
   "metadata": {},
   "outputs": [],
   "source": []
  }
 ],
 "metadata": {
  "kernelspec": {
   "display_name": "venv",
   "language": "python",
   "name": "venv"
  },
  "language_info": {
   "codemirror_mode": {
    "name": "ipython",
    "version": 3
   },
   "file_extension": ".py",
   "mimetype": "text/x-python",
   "name": "python",
   "nbconvert_exporter": "python",
   "pygments_lexer": "ipython3",
   "version": "3.7.7"
  }
 },
 "nbformat": 4,
 "nbformat_minor": 4
}
