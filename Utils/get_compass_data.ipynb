{
 "cells": [
  {
   "cell_type": "code",
   "execution_count": 89,
   "metadata": {},
   "outputs": [],
   "source": [
    "import numpy as np\n",
    "import pandas as pd\n",
    "\n",
    "\n",
    "'''\n",
    "Lookback\n",
    "'''\n",
    "class LabelDF(object):\n",
    "    def __init__(self, input_data, lookback=3, cutoff=1):\n",
    "        self.df = pd.read_csv(input_data)\n",
    "        self.lookback = lookback\n",
    "        self.cutoff = cutoff\n",
    "        \n",
    "    '''\n",
    "    INPUT: List of fields to process\n",
    "    OUTPUT: Processed DataFrame with Direction\n",
    "\n",
    "    '''\n",
    "    def add_direction(self, fields):\n",
    "        sub_df = self.df[fields]\n",
    "        windows = sub_df.rolling(self.lookback, closed=\"right\").mean()\n",
    "                \n",
    "        ## perform the subtraction\n",
    "        thresholds = sub_df - windows\n",
    "        thresholds = thresholds.sum(axis=1)\n",
    "\n",
    "        directions_positive = (thresholds > self.cutoff).astype(int)\n",
    "        directions_negative = (thresholds < -1 * self.cutoff).astype(int)\n",
    "        directions = directions_positive + directions_negative\n",
    "        \n",
    "        self.df[\"directions\"] = directions\n",
    "        print(sum(np.abs(directions)))\n",
    "        \n",
    "        \n",
    "        return self.df"
   ]
  },
  {
   "cell_type": "code",
   "execution_count": 90,
   "metadata": {},
   "outputs": [
    {
     "data": {
      "text/plain": [
       "Index(['Timestamp (ms)', 'Triggering Sensor', 'Latitude', 'Longitude',\n",
       "       'Altitude', 'Heading (degrees)', 'Heading accuracy (degrees)',\n",
       "       'Relative Altitude (m)', 'Pressure (kPa)', 'Speed (m/s)',\n",
       "       'Speed Accuracy (m/s)', 'Floor', 'Acceleration - X axis',\n",
       "       'Acceleration - Y axis', 'Acceleration - Z axis', 'Gyrometer - X axis',\n",
       "       'Gyrometer - Y axis', 'Gyrometer - Z axis', 'Magnetometer - X axis',\n",
       "       'Magnetometer - Y axis', 'Magnetometer - Z axis',\n",
       "       'User acceleration - X axis', 'User acceleration - Y axis',\n",
       "       'User acceleration - Z axis', 'Attitude Pitch', 'Attitude Roll',\n",
       "       'Attitude Yaw', 'Gravity - X axis', 'Gravity - Y axis',\n",
       "       'Gravity - Z axis', 'Rotation Rate - X axis', 'Rotation Rate - Y axis',\n",
       "       'Rotation Rate - Z axis', 'Activity Type', 'Number of Steps',\n",
       "       'Distance', 'Floors Ascended', 'Floors Descended', 'Current Pace',\n",
       "       'Current Cadence', 'Average Active Pace'],\n",
       "      dtype='object')"
      ]
     },
     "metadata": {},
     "output_type": "display_data"
    }
   ],
   "source": [
    "x = LabelDF(\"../data/sample/sample.csv\", 5)\n",
    "display(x.df.columns)"
   ]
  },
  {
   "cell_type": "code",
   "execution_count": 91,
   "metadata": {},
   "outputs": [
    {
     "name": "stdout",
     "output_type": "stream",
     "text": [
      "15\n"
     ]
    }
   ],
   "source": [
    "y = x.add_direction([\"Magnetometer - X axis\",\"Magnetometer - Y axis\"])"
   ]
  }
 ],
 "metadata": {
  "kernelspec": {
   "display_name": "Python 3",
   "language": "python",
   "name": "python3"
  },
  "language_info": {
   "codemirror_mode": {
    "name": "ipython",
    "version": 3
   },
   "file_extension": ".py",
   "mimetype": "text/x-python",
   "name": "python",
   "nbconvert_exporter": "python",
   "pygments_lexer": "ipython3",
   "version": "3.8.2"
  }
 },
 "nbformat": 4,
 "nbformat_minor": 4
}
